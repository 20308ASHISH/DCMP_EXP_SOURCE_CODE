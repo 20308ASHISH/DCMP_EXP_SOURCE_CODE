{
 "cells": [
  {
   "cell_type": "code",
   "execution_count": 1,
   "id": "1a0dbe64",
   "metadata": {},
   "outputs": [
    {
     "name": "stdout",
     "output_type": "stream",
     "text": [
      "Requirement already satisfied: pythtb in /home/jersey/anaconda3/lib/python3.12/site-packages (1.8.0)\n",
      "Requirement already satisfied: numpy in /home/jersey/anaconda3/lib/python3.12/site-packages (from pythtb) (1.26.4)\n",
      "Requirement already satisfied: matplotlib in /home/jersey/anaconda3/lib/python3.12/site-packages (from pythtb) (3.9.2)\n",
      "Requirement already satisfied: contourpy>=1.0.1 in /home/jersey/anaconda3/lib/python3.12/site-packages (from matplotlib->pythtb) (1.2.0)\n",
      "Requirement already satisfied: cycler>=0.10 in /home/jersey/anaconda3/lib/python3.12/site-packages (from matplotlib->pythtb) (0.11.0)\n",
      "Requirement already satisfied: fonttools>=4.22.0 in /home/jersey/anaconda3/lib/python3.12/site-packages (from matplotlib->pythtb) (4.51.0)\n",
      "Requirement already satisfied: kiwisolver>=1.3.1 in /home/jersey/anaconda3/lib/python3.12/site-packages (from matplotlib->pythtb) (1.4.4)\n",
      "Requirement already satisfied: packaging>=20.0 in /home/jersey/anaconda3/lib/python3.12/site-packages (from matplotlib->pythtb) (24.1)\n",
      "Requirement already satisfied: pillow>=8 in /home/jersey/anaconda3/lib/python3.12/site-packages (from matplotlib->pythtb) (10.4.0)\n",
      "Requirement already satisfied: pyparsing>=2.3.1 in /home/jersey/anaconda3/lib/python3.12/site-packages (from matplotlib->pythtb) (3.1.2)\n",
      "Requirement already satisfied: python-dateutil>=2.7 in /home/jersey/anaconda3/lib/python3.12/site-packages (from matplotlib->pythtb) (2.9.0.post0)\n",
      "Requirement already satisfied: six>=1.5 in /home/jersey/anaconda3/lib/python3.12/site-packages (from python-dateutil>=2.7->matplotlib->pythtb) (1.16.0)\n",
      "Note: you may need to restart the kernel to use updated packages.\n"
     ]
    }
   ],
   "source": [
    "%pip install pythtb"
   ]
  },
  {
   "cell_type": "code",
   "execution_count": 2,
   "id": "28434e22",
   "metadata": {},
   "outputs": [],
   "source": [
    "# Importing necessary libraries\n",
    "from pythtb import *\n",
    "import matplotlib.pyplot as plt\n",
    "\n",
    "# Initializing the Wannier90 model by reading the data files\n",
    "pgda=w90(r\"PdGa_Ham1\",r\"wannier90\")\n",
    "my_model=pgda.model(min_hopping_norm=0.01) # only hoppings with norm greater than 0.01 are considered"
   ]
  },
  {
   "cell_type": "code",
   "execution_count": 3,
   "id": "3189ae8b",
   "metadata": {},
   "outputs": [],
   "source": [
    "# To write the band velocity operator at a k-point\n",
    "def calculate_v_euler_forward(k_vec, dk=0.01):\n",
    "    H = my_model._gen_ham([k_vec[0], k_vec[1], k_vec[2]])\n",
    "    Hx = my_model._gen_ham([k_vec[0]+dk, k_vec[1], k_vec[2]])\n",
    "    Hy = my_model._gen_ham([k_vec[0], k_vec[1]+dk, k_vec[2]])\n",
    "    Hz = my_model._gen_ham([k_vec[0], k_vec[1], k_vec[2]+dk])\n",
    "\n",
    "    vx = (Hx-H)/dk\n",
    "    vy = (Hy-H)/dk\n",
    "    vz = (Hz-H)/dk\n",
    "    return np.array((vx, vy, vz))"
   ]
  },
  {
   "cell_type": "code",
   "execution_count": 4,
   "id": "9775e540",
   "metadata": {},
   "outputs": [],
   "source": [
    "# method 1 ................\n",
    "\n",
    "# To get energy eigenvalues and corresponding OBC (Omega^z_xy) at a k-point\n",
    "def solve_and_calculate_Omega_xyz(k_vec, eta=0.01):\n",
    "    v = calculate_v_euler_forward(k_vec)                  # velocity using forward finite difference\n",
    "    #v = my_model.derivative_ham(k_vec)     # velocity using exact derivative formula\n",
    "    (eig_values, eig_vectors) = my_model.solve_one(k_vec, eig_vectors=True)\n",
    "    \n",
    "    # Calculating L_z\n",
    "    Lz = np.zeros(eig_values.shape[0])\n",
    "    for n in range(eig_values.shape[0]):\n",
    "        temp = 0\n",
    "        for m in range(eig_values.shape[0]):\n",
    "            if m==n:\n",
    "                continue\n",
    "            temp += (eig_vectors[n].conjugate().dot(v[0]).dot(eig_vectors[m])*eig_vectors[m].conjugate().dot(v[1]).dot(eig_vectors[n]))/(eig_values[n]-eig_values[m]+complex(0,eta))\n",
    "            temp -= (eig_vectors[n].conjugate().dot(v[1]).dot(eig_vectors[m])*eig_vectors[m].conjugate().dot(v[0]).dot(eig_vectors[n]))/(eig_values[n]-eig_values[m]+complex(0,eta))\n",
    "        Lz[n] = np.imag(temp)\n",
    "    \n",
    "    # Calculating Omega^z_xy\n",
    "    Omega_xyz = np.zeros(eig_values.shape[0])\n",
    "    for n in range(eig_values.shape[0]):\n",
    "        temp = 0\n",
    "        for m in range(eig_values.shape[0]):\n",
    "            if m==n:\n",
    "                continue\n",
    "            temp -= (Lz[m]+Lz[n])*(eig_vectors[n].conjugate().dot(v[0]).dot(eig_vectors[m])*eig_vectors[m].conjugate().dot(v[1]).dot(eig_vectors[n]))/(eig_values[n]-eig_values[m]+complex(0,eta))**2\n",
    "        Omega_xyz[n] = np.imag(temp/2)\n",
    "    return (eig_values, Omega_xyz)"
   ]
  },
  {
   "cell_type": "code",
   "execution_count": 18,
   "id": "233a2fc3",
   "metadata": {},
   "outputs": [
    {
     "ename": "KeyboardInterrupt",
     "evalue": "",
     "output_type": "error",
     "traceback": [
      "\u001b[0;31m---------------------------------------------------------------------------\u001b[0m",
      "\u001b[0;31mKeyboardInterrupt\u001b[0m                         Traceback (most recent call last)",
      "Cell \u001b[0;32mIn[18], line 29\u001b[0m\n\u001b[1;32m     26\u001b[0m k_points \u001b[38;5;241m=\u001b[39m np\u001b[38;5;241m.\u001b[39mvstack([kx_grid\u001b[38;5;241m.\u001b[39mravel(), ky_grid\u001b[38;5;241m.\u001b[39mravel(), kz_grid\u001b[38;5;241m.\u001b[39mravel()])\u001b[38;5;241m.\u001b[39mT  \u001b[38;5;66;03m# shape (N^3, 3)\u001b[39;00m\n\u001b[1;32m     28\u001b[0m \u001b[38;5;66;03m# Parallel computation of evals and Omega_xyz\u001b[39;00m\n\u001b[0;32m---> 29\u001b[0m evals, Omega_xyz \u001b[38;5;241m=\u001b[39m parallel_solve_and_calculate(k_points)\n",
      "Cell \u001b[0;32mIn[18], line 9\u001b[0m, in \u001b[0;36mparallel_solve_and_calculate\u001b[0;34m(k_points)\u001b[0m\n\u001b[1;32m      6\u001b[0m evals \u001b[38;5;241m=\u001b[39m np\u001b[38;5;241m.\u001b[39mzeros((\u001b[38;5;241m64\u001b[39m, \u001b[38;5;28mlen\u001b[39m(k_points)))\n\u001b[1;32m      7\u001b[0m Omega_xyz \u001b[38;5;241m=\u001b[39m np\u001b[38;5;241m.\u001b[39mzeros((\u001b[38;5;241m64\u001b[39m, \u001b[38;5;28mlen\u001b[39m(k_points)))\n\u001b[0;32m----> 9\u001b[0m results \u001b[38;5;241m=\u001b[39m Parallel(n_jobs\u001b[38;5;241m=\u001b[39m\u001b[38;5;241m-\u001b[39m\u001b[38;5;241m1\u001b[39m)(delayed(solve_and_calculate_Omega_xyz)(k_point) \u001b[38;5;28;01mfor\u001b[39;00m k_point \u001b[38;5;129;01min\u001b[39;00m k_points)\n\u001b[1;32m     11\u001b[0m \u001b[38;5;28;01mfor\u001b[39;00m i, (e_vals, Omega) \u001b[38;5;129;01min\u001b[39;00m \u001b[38;5;28menumerate\u001b[39m(results):\n\u001b[1;32m     12\u001b[0m     evals[:, i] \u001b[38;5;241m=\u001b[39m e_vals\n",
      "File \u001b[0;32m~/anaconda3/lib/python3.12/site-packages/joblib/parallel.py:2007\u001b[0m, in \u001b[0;36mParallel.__call__\u001b[0;34m(self, iterable)\u001b[0m\n\u001b[1;32m   2001\u001b[0m \u001b[38;5;66;03m# The first item from the output is blank, but it makes the interpreter\u001b[39;00m\n\u001b[1;32m   2002\u001b[0m \u001b[38;5;66;03m# progress until it enters the Try/Except block of the generator and\u001b[39;00m\n\u001b[1;32m   2003\u001b[0m \u001b[38;5;66;03m# reaches the first `yield` statement. This starts the asynchronous\u001b[39;00m\n\u001b[1;32m   2004\u001b[0m \u001b[38;5;66;03m# dispatch of the tasks to the workers.\u001b[39;00m\n\u001b[1;32m   2005\u001b[0m \u001b[38;5;28mnext\u001b[39m(output)\n\u001b[0;32m-> 2007\u001b[0m \u001b[38;5;28;01mreturn\u001b[39;00m output \u001b[38;5;28;01mif\u001b[39;00m \u001b[38;5;28mself\u001b[39m\u001b[38;5;241m.\u001b[39mreturn_generator \u001b[38;5;28;01melse\u001b[39;00m \u001b[38;5;28mlist\u001b[39m(output)\n",
      "File \u001b[0;32m~/anaconda3/lib/python3.12/site-packages/joblib/parallel.py:1650\u001b[0m, in \u001b[0;36mParallel._get_outputs\u001b[0;34m(self, iterator, pre_dispatch)\u001b[0m\n\u001b[1;32m   1647\u001b[0m     \u001b[38;5;28;01myield\u001b[39;00m\n\u001b[1;32m   1649\u001b[0m     \u001b[38;5;28;01mwith\u001b[39;00m \u001b[38;5;28mself\u001b[39m\u001b[38;5;241m.\u001b[39m_backend\u001b[38;5;241m.\u001b[39mretrieval_context():\n\u001b[0;32m-> 1650\u001b[0m         \u001b[38;5;28;01myield from\u001b[39;00m \u001b[38;5;28mself\u001b[39m\u001b[38;5;241m.\u001b[39m_retrieve()\n\u001b[1;32m   1652\u001b[0m \u001b[38;5;28;01mexcept\u001b[39;00m \u001b[38;5;167;01mGeneratorExit\u001b[39;00m:\n\u001b[1;32m   1653\u001b[0m     \u001b[38;5;66;03m# The generator has been garbage collected before being fully\u001b[39;00m\n\u001b[1;32m   1654\u001b[0m     \u001b[38;5;66;03m# consumed. This aborts the remaining tasks if possible and warn\u001b[39;00m\n\u001b[1;32m   1655\u001b[0m     \u001b[38;5;66;03m# the user if necessary.\u001b[39;00m\n\u001b[1;32m   1656\u001b[0m     \u001b[38;5;28mself\u001b[39m\u001b[38;5;241m.\u001b[39m_exception \u001b[38;5;241m=\u001b[39m \u001b[38;5;28;01mTrue\u001b[39;00m\n",
      "File \u001b[0;32m~/anaconda3/lib/python3.12/site-packages/joblib/parallel.py:1762\u001b[0m, in \u001b[0;36mParallel._retrieve\u001b[0;34m(self)\u001b[0m\n\u001b[1;32m   1757\u001b[0m \u001b[38;5;66;03m# If the next job is not ready for retrieval yet, we just wait for\u001b[39;00m\n\u001b[1;32m   1758\u001b[0m \u001b[38;5;66;03m# async callbacks to progress.\u001b[39;00m\n\u001b[1;32m   1759\u001b[0m \u001b[38;5;28;01mif\u001b[39;00m ((\u001b[38;5;28mlen\u001b[39m(\u001b[38;5;28mself\u001b[39m\u001b[38;5;241m.\u001b[39m_jobs) \u001b[38;5;241m==\u001b[39m \u001b[38;5;241m0\u001b[39m) \u001b[38;5;129;01mor\u001b[39;00m\n\u001b[1;32m   1760\u001b[0m     (\u001b[38;5;28mself\u001b[39m\u001b[38;5;241m.\u001b[39m_jobs[\u001b[38;5;241m0\u001b[39m]\u001b[38;5;241m.\u001b[39mget_status(\n\u001b[1;32m   1761\u001b[0m         timeout\u001b[38;5;241m=\u001b[39m\u001b[38;5;28mself\u001b[39m\u001b[38;5;241m.\u001b[39mtimeout) \u001b[38;5;241m==\u001b[39m TASK_PENDING)):\n\u001b[0;32m-> 1762\u001b[0m     time\u001b[38;5;241m.\u001b[39msleep(\u001b[38;5;241m0.01\u001b[39m)\n\u001b[1;32m   1763\u001b[0m     \u001b[38;5;28;01mcontinue\u001b[39;00m\n\u001b[1;32m   1765\u001b[0m \u001b[38;5;66;03m# We need to be careful: the job list can be filling up as\u001b[39;00m\n\u001b[1;32m   1766\u001b[0m \u001b[38;5;66;03m# we empty it and Python list are not thread-safe by\u001b[39;00m\n\u001b[1;32m   1767\u001b[0m \u001b[38;5;66;03m# default hence the use of the lock\u001b[39;00m\n",
      "\u001b[0;31mKeyboardInterrupt\u001b[0m: "
     ]
    }
   ],
   "source": [
    "\n",
    "from joblib import Parallel, delayed\n",
    "# Method 1 -- we need this in hall calculation\n",
    "\n",
    "# Efficient computation of eigenvalues and Omega_xyz using parallel processing\n",
    "def parallel_solve_and_calculate(k_points):\n",
    "    evals = np.zeros((64, len(k_points)))\n",
    "    Omega_xyz = np.zeros((64, len(k_points)))\n",
    "\n",
    "    results = Parallel(n_jobs=-1)(delayed(solve_and_calculate_Omega_xyz)(k_point) for k_point in k_points)\n",
    "\n",
    "    for i, (e_vals, Omega) in enumerate(results):\n",
    "        evals[:, i] = e_vals\n",
    "        Omega_xyz[:, i] = Omega\n",
    "\n",
    "    return evals, Omega_xyz\n",
    "\n",
    "# Create k-points\n",
    "\n",
    "N = 16\n",
    "kx = np.linspace(-0.5, 0.5, N, endpoint=False)\n",
    "ky = np.linspace(-0.5, 0.5, N, endpoint=False)\n",
    "kz = np.linspace(-0.5, 0.5, N, endpoint=False)\n",
    "\n",
    "# Create 3D meshgrid and flatten\n",
    "kx_grid, ky_grid, kz_grid = np.meshgrid(kx, ky, kz, indexing='ij')\n",
    "k_points = np.vstack([kx_grid.ravel(), ky_grid.ravel(), kz_grid.ravel()]).T  # shape (N^3, 3)\n",
    "\n",
    "# Parallel computation of evals and Omega_xyz\n",
    "evals, Omega_xyz = parallel_solve_and_calculate(k_points)\n"
   ]
  },
  {
   "cell_type": "code",
   "execution_count": 22,
   "id": "712684f7",
   "metadata": {},
   "outputs": [],
   "source": [
    "# Orbital Hall conductivity\n",
    "\n",
    "# we need energies (eval) where we take u = 6.87 and omega_xyz which we have already computed\n",
    "\n",
    "def fermi_distribution(energies, T):\n",
    "    KT = 26e-3\n",
    "    y = 1/(1+np.exp((energies)/KT))\n",
    "    return y\n"
   ]
  },
  {
   "cell_type": "code",
   "execution_count": 27,
   "id": "291d1e1f",
   "metadata": {},
   "outputs": [
    {
     "name": "stdout",
     "output_type": "stream",
     "text": [
      "0.030812860801584827\n",
      "0.22737377245942209\n",
      "0.14469657695759855\n",
      "0.2439664702724275\n",
      "0.27560533226024725\n",
      "0.24700113488064498\n",
      "0.4167730078341502\n",
      "0.3784487415407446\n",
      "0.46381817633811445\n",
      "0.3354625792162589\n",
      "0.40454805690677675\n",
      "0.049771954866185616\n",
      "1.2926224344441715\n",
      "2.992071849575923\n",
      "0.7426508159290871\n",
      "0.9186264561849055\n",
      "1.3786997962091951\n",
      "1.1928230199324839\n",
      "0.9534464560439778\n",
      "0.8640161227536448\n"
     ]
    }
   ],
   "source": [
    "# using evals\n",
    "u = np.linspace(-5.1,5.1,20)\n",
    "response = []\n",
    "for i in u:\n",
    "  summation1 = fermi_distribution(evals-6.87-i, 300)\n",
    "  result = np.sum(summation1* Omega_xyz)\n",
    "  results = np.sum(result)\n",
    "  results = results / (2 * np.pi)**3 / N**3\n",
    "  response.append(results)\n",
    "  print(results)"
   ]
  },
  {
   "cell_type": "code",
   "execution_count": 28,
   "id": "7d6dad59",
   "metadata": {},
   "outputs": [
    {
     "data": {
      "image/png": "[encoded data removed]",
      "text/plain": [
       "<Figure size 640x480 with 1 Axes>"
      ]
     },
     "metadata": {},
     "output_type": "display_data"
    }
   ],
   "source": [
    "plt.plot(u,response)\n",
    "plt.show()"
   ]
  },
  {
   "cell_type": "code",
   "execution_count": null,
   "id": "e87fb2c0",
   "metadata": {},
   "outputs": [],
   "source": [
    "import numpy as np\n",
    "import matplotlib.pyplot as plt\n",
    "from scipy.optimize import curve_fit\n",
    "\n",
    "# Given data\n",
    "N_vals = np.array([8, 10, 12, 14, 20])\n",
    "ohc_vals = np.array([0.41, 0.34, 0.32, 0.31, 0.29])\n",
    "\n",
    "# Define fitting function\n",
    "def fit_func(N, a, b, c):\n",
    "    return a / N**b + c\n",
    "\n",
    "# Fit the data\n",
    "params, _ = curve_fit(fit_func, N_vals, ohc_vals)\n",
    "\n",
    "# Generate smooth curve\n",
    "N_fit = np.linspace(6, 3000, 200)\n",
    "ohc_fit = fit_func(N_fit, *params)\n",
    "\n",
    "# Plot\n",
    "plt.figure(figsize=(8, 5))\n",
    "plt.plot(N_vals, ohc_vals, 'o', label='Data')\n",
    "plt.plot(N_fit, ohc_fit, '-', label='Fit: a/N^b + c')\n",
    "plt.xlabel('N')\n",
    "plt.ylabel('OHC')\n",
    "plt.title('OHC vs N')\n",
    "plt.legend()\n",
    "plt.grid(True)\n",
    "plt.tight_layout()\n",
    "plt.show()\n"
   ]
  }
 ],
 "metadata": {
  "kernelspec": {
   "display_name": "base",
   "language": "python",
   "name": "python3"
  },
  "language_info": {
   "codemirror_mode": {
    "name": "ipython",
    "version": 3
   },
   "file_extension": ".py",
   "mimetype": "text/x-python",
   "name": "python",
   "nbconvert_exporter": "python",
   "pygments_lexer": "ipython3",
   "version": "3.12.7"
  }
 },
 "nbformat": 4,
 "nbformat_minor": 5
}
