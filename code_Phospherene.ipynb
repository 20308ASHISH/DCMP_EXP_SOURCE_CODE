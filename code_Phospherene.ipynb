{
 "cells": [
  {
   "cell_type": "code",
   "execution_count": 1,
   "id": "cca0ded8",
   "metadata": {},
   "outputs": [
    {
     "name": "stdout",
     "output_type": "stream",
     "text": [
      "Requirement already satisfied: pythtb in /home/jersey/anaconda3/lib/python3.12/site-packages (1.8.0)\n",
      "Requirement already satisfied: numpy in /home/jersey/anaconda3/lib/python3.12/site-packages (from pythtb) (1.26.4)\n",
      "Requirement already satisfied: matplotlib in /home/jersey/anaconda3/lib/python3.12/site-packages (from pythtb) (3.9.2)\n",
      "Requirement already satisfied: contourpy>=1.0.1 in /home/jersey/anaconda3/lib/python3.12/site-packages (from matplotlib->pythtb) (1.2.0)\n",
      "Requirement already satisfied: cycler>=0.10 in /home/jersey/anaconda3/lib/python3.12/site-packages (from matplotlib->pythtb) (0.11.0)\n",
      "Requirement already satisfied: fonttools>=4.22.0 in /home/jersey/anaconda3/lib/python3.12/site-packages (from matplotlib->pythtb) (4.51.0)\n",
      "Requirement already satisfied: kiwisolver>=1.3.1 in /home/jersey/anaconda3/lib/python3.12/site-packages (from matplotlib->pythtb) (1.4.4)\n",
      "Requirement already satisfied: packaging>=20.0 in /home/jersey/anaconda3/lib/python3.12/site-packages (from matplotlib->pythtb) (24.1)\n",
      "Requirement already satisfied: pillow>=8 in /home/jersey/anaconda3/lib/python3.12/site-packages (from matplotlib->pythtb) (10.4.0)\n",
      "Requirement already satisfied: pyparsing>=2.3.1 in /home/jersey/anaconda3/lib/python3.12/site-packages (from matplotlib->pythtb) (3.1.2)\n",
      "Requirement already satisfied: python-dateutil>=2.7 in /home/jersey/anaconda3/lib/python3.12/site-packages (from matplotlib->pythtb) (2.9.0.post0)\n",
      "Requirement already satisfied: six>=1.5 in /home/jersey/anaconda3/lib/python3.12/site-packages (from python-dateutil>=2.7->matplotlib->pythtb) (1.16.0)\n",
      "Note: you may need to restart the kernel to use updated packages.\n"
     ]
    }
   ],
   "source": [
    "%pip install pythtb"
   ]
  },
  {
   "cell_type": "code",
   "execution_count": 1,
   "id": "8e6f0fe1",
   "metadata": {},
   "outputs": [],
   "source": [
    "# Importing necessary libraries\n",
    "from pythtb import *\n",
    "import matplotlib.pyplot as plt\n",
    "\n",
    "# Initializing the Wannier90 model by reading the data files\n",
    "pgda=w90(r\"Phosphorene\",r\"wannier90\")   # Phosphorene/wannier90.win\n",
    "my_model=pgda.model(min_hopping_norm=0.01) # only hoppings with norm greater than 0.01 are considered"
   ]
  },
  {
   "cell_type": "code",
   "execution_count": 2,
   "id": "f2eb464e",
   "metadata": {},
   "outputs": [],
   "source": [
    "# 2D finite difference velocity using dummy kz=0.0\n",
    "def calculate_v_euler_forward_2D(k_vec, dk=0.01):\n",
    "    kx, ky = k_vec\n",
    "    kz = 0.0  # dummy kz\n",
    "\n",
    "    H = my_model._gen_ham([kx, ky, kz])\n",
    "    Hx = my_model._gen_ham([kx + dk, ky, kz])\n",
    "    Hy = my_model._gen_ham([kx, ky + dk, kz])\n",
    "\n",
    "    vx = (Hx - H) / dk\n",
    "    vy = (Hy - H) / dk\n",
    "    #print(\"shape of vx and vy :\",vx.shape, vy.shape) \n",
    "    return np.array((vx, vy))\n"
   ]
  },
  {
   "cell_type": "code",
   "execution_count": 3,
   "id": "ef8000f4",
   "metadata": {},
   "outputs": [],
   "source": [
    "import numpy as np\n",
    "\n",
    "def solve_and_calculate_Omega_xyz_2D(k_vec, eta=0.01):\n",
    "    k_vec = np.array(k_vec)\n",
    "    \n",
    "    v = calculate_v_euler_forward_2D(k_vec)\n",
    "    eig_values, eig_vectors = my_model.solve_one([k_vec[0], k_vec[1], 0.0], eig_vectors=True)\n",
    "\n",
    "    num_bands = eig_values.shape[0]\n",
    "    Lz = np.zeros(num_bands, dtype=complex)\n",
    "\n",
    "    # Calculate Lz for each band\n",
    "    for n in range(num_bands):\n",
    "        psi_n = eig_vectors[:, n]  # (N,)\n",
    "        temp = 0 + 0j\n",
    "        for m in range(num_bands):\n",
    "            if m == n:\n",
    "                continue\n",
    "            psi_m = eig_vectors[:, m]\n",
    "\n",
    "            # term1 = (psi_n^† v_x psi_m) * (psi_m^† v_y psi_n)\n",
    "            v_x_psi_m = np.dot(v[0], psi_m)                  # (N,)\n",
    "            term1_part1 = np.dot(psi_n.conj().T, v_x_psi_m)  # scalar\n",
    "\n",
    "            v_y_psi_n = np.dot(v[1], psi_n)                  # (N,)\n",
    "            term1_part2 = np.dot(psi_m.conj().T, v_y_psi_n)  # scalar\n",
    "            term1 = term1_part1 * term1_part2\n",
    "\n",
    "            # term2 = (psi_n^† v_y psi_m) * (psi_m^† v_x psi_n)\n",
    "            v_y_psi_m = np.dot(v[1], psi_m)\n",
    "            term2_part1 = np.dot(psi_n.conj().T, v_y_psi_m)\n",
    "\n",
    "            v_x_psi_n = np.dot(v[0], psi_n)\n",
    "            term2_part2 = np.dot(psi_m.conj().T, v_x_psi_n)\n",
    "            term2 = term2_part1 * term2_part2\n",
    "\n",
    "            denom = eig_values[n] - eig_values[m] + 1j * eta\n",
    "            temp += (term1 - term2) / denom\n",
    "\n",
    "        Lz[n] = np.imag(temp)\n",
    "\n",
    "    # Project Lz (which is a vector of length num_bands) into band basis\n",
    "    # This was wrong in original: psi_n.conj().T @ Lz @ psi_n\n",
    "    # Instead, weight Lz by the probability weights |psi_n|^2 of each component?\n",
    "    # But psi_n is an eigenvector, Lz is per band, so usually no need for this projection again.\n",
    "    # Assuming you want Lz as is for each band, skip or keep this as just Lz.\n",
    "\n",
    "    # Berry curvature weighted by Lz\n",
    "    Omega_xy = np.zeros(num_bands, dtype=float)\n",
    "    for n in range(num_bands):\n",
    "        psi_n = eig_vectors[:, n]\n",
    "        temp = 0 + 0j\n",
    "        for m in range(num_bands):\n",
    "            if m == n:\n",
    "                continue\n",
    "            psi_m = eig_vectors[:, m]\n",
    "\n",
    "            vnm_x = np.dot(psi_n.conj().T, np.dot(v[0], psi_m))\n",
    "            vmn_y = np.dot(psi_m.conj().T, np.dot(v[1], psi_n))\n",
    "            vnm_y = np.dot(psi_n.conj().T, np.dot(v[1], psi_m))\n",
    "            vmn_x = np.dot(psi_m.conj().T, np.dot(v[0], psi_n))\n",
    "\n",
    "            denom = (eig_values[n] - eig_values[m] + 1j * eta)**2\n",
    "\n",
    "            temp -= (Lz[n] + Lz[m]) * (vnm_x * vmn_y - vnm_y * vmn_x) / denom\n",
    "        Omega_xy[n] = np.imag(temp / 2)\n",
    "\n",
    "    return eig_values, Omega_xy\n"
   ]
  },
  {
   "cell_type": "code",
   "execution_count": 16,
   "id": "b4a1b656",
   "metadata": {},
   "outputs": [],
   "source": [
    "from joblib import Parallel, delayed\n",
    "import numpy as np\n",
    "\n",
    "# Efficient computation of eigenvalues and Omega_xy using parallel processing (2D)\n",
    "def parallel_solve_and_calculate_2D(k_points):\n",
    "    num_bands = 24\n",
    "    evals = np.zeros((num_bands, len(k_points)))\n",
    "    Omega_xy = np.zeros((num_bands, len(k_points)))\n",
    "\n",
    "    results = Parallel(n_jobs=-1)(\n",
    "        delayed(solve_and_calculate_Omega_xyz_2D)(k_point) for k_point in k_points\n",
    "    )\n",
    "\n",
    "    for i, (e_vals, Omega) in enumerate(results):\n",
    "        evals[:, i] = e_vals\n",
    "        Omega_xy[:, i] = Omega\n",
    "\n",
    "    return evals, Omega_xy\n",
    "\n",
    "# Create 2D k-points\n",
    "N = 50\n",
    "kx = np.linspace(-0.5, 0.5, N, endpoint=False)\n",
    "ky = np.linspace(-0.5, 0.5, N, endpoint=False)\n",
    "\n",
    "# Create 2D meshgrid and flatten\n",
    "kx_grid, ky_grid = np.meshgrid(kx, ky, indexing='ij')\n",
    "k_points = np.vstack([kx_grid.ravel(), ky_grid.ravel()]).T  # shape (N², 2)\n",
    "\n",
    "# Run parallel computation\n",
    "evals, Omega_xy = parallel_solve_and_calculate_2D(k_points)\n"
   ]
  },
  {
   "cell_type": "code",
   "execution_count": 28,
   "id": "98b6ccc0",
   "metadata": {},
   "outputs": [],
   "source": [
    "# Orbital Hall conductivity\n",
    "\n",
    "# we need energies (eval) where we take u = 6.87 and omega_xyz which we have already computed\n",
    "#print((evals))\n",
    "def fermi_distribution(energies, T):\n",
    "    KT = 26e-3\n",
    "    y = 1/(1+np.exp((energies)/KT))\n",
    "    return y\n"
   ]
  },
  {
   "cell_type": "code",
   "execution_count": 29,
   "id": "733824c4",
   "metadata": {},
   "outputs": [
    {
     "name": "stdout",
     "output_type": "stream",
     "text": [
      "-10.324431442923336\n",
      "-10.158875598670699\n",
      "-8.568050810897992\n",
      "-5.886918417916561\n",
      "-2.712979536468129\n",
      "0.38618118631607495\n",
      "3.0501072970332337\n",
      "5.14546385080727\n",
      "6.70022566340433\n",
      "7.827275387668726\n",
      "8.669054366130295\n",
      "9.362412821135223\n",
      "10.016166557136174\n",
      "10.701292158516168\n",
      "11.455722405532214\n",
      "12.297289435237523\n",
      "13.23301391311171\n",
      "14.259116809569528\n",
      "15.356375400024682\n",
      "16.48972296105206\n"
     ]
    }
   ],
   "source": [
    "# using evals\n",
    "u = np.linspace(-0.1,0.1,20)\n",
    "response = []\n",
    "for i in u:\n",
    "  summation1 = fermi_distribution(evals-2.8123-i, 300)\n",
    "  result = np.sum(summation1* Omega_xy)\n",
    "  results = np.sum(result)\n",
    "  results = results / (2 * np.pi)**2 / N**2 * 15.19\n",
    "  response.append(results)\n",
    "  print(results)"
   ]
  },
  {
   "cell_type": "code",
   "execution_count": 30,
   "id": "e83b48d3",
   "metadata": {},
   "outputs": [
    {
     "data": {
      "image/png": "[encoded data removed]",
      "text/plain": [
       "<Figure size 640x480 with 1 Axes>"
      ]
     },
     "metadata": {},
     "output_type": "display_data"
    }
   ],
   "source": [
    "plt.plot(u,response)\n",
    "plt.show()"
   ]
  },
  {
   "cell_type": "code",
   "execution_count": null,
   "id": "f1a36878",
   "metadata": {},
   "outputs": [],
   "source": []
  }
 ],
 "metadata": {
  "kernelspec": {
   "display_name": "base",
   "language": "python",
   "name": "python3"
  },
  "language_info": {
   "codemirror_mode": {
    "name": "ipython",
    "version": 3
   },
   "file_extension": ".py",
   "mimetype": "text/x-python",
   "name": "python",
   "nbconvert_exporter": "python",
   "pygments_lexer": "ipython3",
   "version": "3.12.7"
  }
 },
 "nbformat": 4,
 "nbformat_minor": 5
}
