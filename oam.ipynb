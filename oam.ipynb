{
 "cells": [
  {
   "cell_type": "code",
   "execution_count": 1,
   "metadata": {},
   "outputs": [],
   "source": [
    "# Importing necessary libraries\n",
    "from pythtb import *\n",
    "import matplotlib.pyplot as plt\n",
    "\n",
    "# Initializing the Wannier90 model by reading the data files\n",
    "pgda=w90(r\"Ham2\",r\"wannier90\")\n",
    "my_model=pgda.model(min_hopping_norm=0.01) # only hoppings with norm greater than 0.01 are considered"
   ]
  },
  {
   "cell_type": "markdown",
   "metadata": {},
   "source": [
    "# Task 1"
   ]
  },
  {
   "cell_type": "code",
   "execution_count": null,
   "metadata": {},
   "outputs": [],
   "source": [
    "# Choosing the path\n",
    "path=[[0.5,0.0,0.0],[0.5,-0.5,0.0],[0.0,0.0, 0.0],[0.5,0.5,0.5],[0.5,0.0,0.0]]\n",
    "k_label=(r'$X$', r'$M$', r'$\\Gamma$', r'$R$', r'$X$')\n",
    "(k_vec,k_dist,k_node)=my_model.k_path(path,1001,report=False)\n",
    "\n",
    "# Finding the energy eigenvalues at all k-points\n",
    "evals=my_model.solve_all(k_vec)\n",
    "energies = evals - 6.87 # Subtructing the Fermi energy\n",
    "\n",
    "# Plotting the bands\n",
    "fig, ax = plt.subplots()\n",
    "for i in range(evals.shape[0]):\n",
    "    ax.plot(k_dist,energies[i],\"k-\")\n",
    "for n in range(len(k_node)):\n",
    "    ax.axvline(x=k_node[n],linewidth=0.5, color='k')\n",
    "ax.set_xlabel(\"Path in k-space\")\n",
    "ax.set_ylabel(\"Band energy (eV)\")\n",
    "ax.set_xlim(k_dist[0],k_dist[-1])\n",
    "ax.set_ylim(-3, 3)\n",
    "ax.set_xticks(k_node)\n",
    "ax.set_xticklabels(k_label)\n",
    "fig.tight_layout()\n",
    "\n",
    "plt.show()"
   ]
  },
  {
   "cell_type": "markdown",
   "metadata": {},
   "source": [
    "# Task 2"
   ]
  },
  {
   "cell_type": "code",
   "execution_count": 2,
   "metadata": {},
   "outputs": [],
   "source": [
    "# To write the band velocity operator at a k-point\n",
    "def calculate_v(k_vec, dk=0.01):\n",
    "    H = my_model._gen_ham([k_vec[0], k_vec[1], k_vec[2]])\n",
    "    Hx = my_model._gen_ham([k_vec[0]+dk, k_vec[1], k_vec[2]])\n",
    "    Hy = my_model._gen_ham([k_vec[0], k_vec[1]+dk, k_vec[2]])\n",
    "    Hz = my_model._gen_ham([k_vec[0], k_vec[1], k_vec[2]+dk])\n",
    "\n",
    "    vx = (Hx-H)/dk\n",
    "    vy = (Hy-H)/dk\n",
    "    vz = (Hz-H)/dk\n",
    "    return np.array((vx, vy, vz))"
   ]
  },
  {
   "cell_type": "code",
   "execution_count": 5,
   "metadata": {},
   "outputs": [],
   "source": [
    "# To get energy eigenvalues and corresponding OAMs at a k-point\n",
    "def solve_and_calculate_L(k_vec, eta=0.01):\n",
    "    v = calculate_v(k_vec)                  # velocity using forward finite difference\n",
    "    #v = my_model.derivative_ham(k_vec)     # velocity using exact derivative formula\n",
    "    \n",
    "    # Getting energy eigenvalues and vectors\n",
    "    (eig_values, eig_vectors) = my_model.solve_one(k_vec, eig_vectors=True)\n",
    "    \n",
    "    # Calculating 3 components of OAM\n",
    "    Lx = np.zeros(eig_values.shape[0])\n",
    "    for n in range(eig_values.shape[0]):\n",
    "        temp = 0\n",
    "        for m in range(eig_values.shape[0]):\n",
    "            if m==n:\n",
    "                continue\n",
    "            temp += (eig_vectors[n].conjugate().dot(v[1]).dot(eig_vectors[m])*eig_vectors[m].conjugate().dot(v[2]).dot(eig_vectors[n]))/(eig_values[n]-eig_values[m]+complex(0,eta))\n",
    "            temp -= (eig_vectors[n].conjugate().dot(v[2]).dot(eig_vectors[m])*eig_vectors[m].conjugate().dot(v[1]).dot(eig_vectors[n]))/(eig_values[n]-eig_values[m]+complex(0,eta))\n",
    "        Lx[n] = np.imag(temp)\n",
    "    Ly = np.zeros(eig_values.shape[0])\n",
    "    for n in range(eig_values.shape[0]):\n",
    "        temp = 0\n",
    "        for m in range(eig_values.shape[0]):\n",
    "            if m==n:\n",
    "                continue\n",
    "            temp += (eig_vectors[n].conjugate().dot(v[2]).dot(eig_vectors[m])*eig_vectors[m].conjugate().dot(v[0]).dot(eig_vectors[n]))/(eig_values[n]-eig_values[m]+complex(0,eta))\n",
    "            temp -= (eig_vectors[n].conjugate().dot(v[0]).dot(eig_vectors[m])*eig_vectors[m].conjugate().dot(v[2]).dot(eig_vectors[n]))/(eig_values[n]-eig_values[m]+complex(0,eta))\n",
    "        Ly[n] = np.imag(temp)\n",
    "    Lz = np.zeros(eig_values.shape[0])\n",
    "    for n in range(eig_values.shape[0]):\n",
    "        temp = 0\n",
    "        for m in range(eig_values.shape[0]):\n",
    "            if m==n:\n",
    "                continue\n",
    "            temp += (eig_vectors[n].conjugate().dot(v[0]).dot(eig_vectors[m])*eig_vectors[m].conjugate().dot(v[1]).dot(eig_vectors[n]))/(eig_values[n]-eig_values[m]+complex(0,eta))\n",
    "            temp -= (eig_vectors[n].conjugate().dot(v[1]).dot(eig_vectors[m])*eig_vectors[m].conjugate().dot(v[0]).dot(eig_vectors[n]))/(eig_values[n]-eig_values[m]+complex(0,eta))\n",
    "        Lz[n] = np.imag(temp)\n",
    "    return (eig_values, np.array((Lx, Ly, Lz)))"
   ]
  },
  {
   "cell_type": "code",
   "execution_count": null,
   "metadata": {},
   "outputs": [],
   "source": [
    "# Choosing the path\n",
    "path=[[-0.5,-0.5,-0.5],[0.0,0.0, 0.0],[0.5,0.5,0.5]]\n",
    "k_label=(r'$R$', r'$\\Gamma$', r'$R$')\n",
    "(k_vec,k_dist,k_node)=my_model.k_path(path,501,report=False)\n",
    "\n",
    "# Calculating OAM\n",
    "evals = np.zeros((64, k_vec.shape[0]))\n",
    "L = np.zeros((3, 64, k_vec.shape[0]))\n",
    "for i in range(k_vec.shape[0]):\n",
    "    (evals[:, i], L[:,:, i]) = solve_and_calculate_L(k_vec[i])\n",
    "    if i%50 == 0:\n",
    "        print(i+1, \"points done.\")\n",
    "\n",
    "energies = evals-6.87\n",
    "colors = L[0]+L[1]+L[2]     # L_111"
   ]
  },
  {
   "cell_type": "code",
   "execution_count": null,
   "metadata": {},
   "outputs": [],
   "source": [
    "# Plotting\n",
    "plt.set_cmap('bwr')\n",
    "cmax = 30\n",
    "for i in range(evals.shape[0]):\n",
    "    plt.scatter(k_dist, energies[i], s=1, c=colors[i])\n",
    "    plt.clim(-cmax, cmax)\n",
    "plt.colorbar(label=\"$L_{111}$\")\n",
    "for n in range(len(k_node)):\n",
    "    plt.axvline(x=k_node[n],linewidth=0.5, color='k')\n",
    "plt.xlabel(\"Path in k-space\")\n",
    "plt.ylabel(\"Band energy (eV)\")\n",
    "plt.xlim(k_dist[0],k_dist[-1])\n",
    "plt.ylim(-2.5, 2.5)\n",
    "plt.xticks(k_node, labels=k_label)\n",
    "plt.show()"
   ]
  },
  {
   "cell_type": "markdown",
   "metadata": {},
   "source": [
    "# Task 3"
   ]
  },
  {
   "cell_type": "markdown",
   "metadata": {},
   "source": [
    "\n",
    "$j^z_x=\\frac{1}{2} \\left\\{ v_x,L_z \\right\\}$\n",
    "\n",
    "$\\Omega^{z}_{n,xy}=-2 Im \\sum_{m \\neq n}\\frac{ \\langle n(k)|j^{z}_{x}|m(k)\\rangle \\langle m(k)|v_{y}|n(k)\\rangle}{( E_n(k)-E_m(k))^2}$"
   ]
  },
  {
   "cell_type": "code",
   "execution_count": 8,
   "metadata": {},
   "outputs": [],
   "source": [
    "# To get energy eigenvalues and corresponding OBC (Omega^z_xy) at a k-point\n",
    "def solve_and_calculate_Omega_xyz(k_vec, eta=0.0001):\n",
    "    v = calculate_v(k_vec)                  # velocity using forward finite difference\n",
    "    #v = my_model.derivative_ham(k_vec)     # velocity using exact derivative formula\n",
    "    (eig_values, eig_vectors) = my_model.solve_one(k_vec, eig_vectors=True)\n",
    "    \n",
    "    # Calculating L_z\n",
    "    Lz = np.zeros(eig_values.shape[0])\n",
    "    for n in range(eig_values.shape[0]):\n",
    "        temp = 0\n",
    "        for m in range(eig_values.shape[0]):\n",
    "            if m==n:\n",
    "                continue\n",
    "            temp += (eig_vectors[n].conjugate().dot(v[0]).dot(eig_vectors[m])*eig_vectors[m].conjugate().dot(v[1]).dot(eig_vectors[n]))/(eig_values[n]-eig_values[m]+complex(0,eta))\n",
    "            temp -= (eig_vectors[n].conjugate().dot(v[1]).dot(eig_vectors[m])*eig_vectors[m].conjugate().dot(v[0]).dot(eig_vectors[n]))/(eig_values[n]-eig_values[m]+complex(0,eta))\n",
    "        Lz[n] = np.imag(temp)\n",
    "    \n",
    "    # Calculating Omega^z_xy\n",
    "    Omega_xyz = np.zeros(eig_values.shape[0])\n",
    "    for n in range(eig_values.shape[0]):\n",
    "        temp = 0\n",
    "        for m in range(eig_values.shape[0]):\n",
    "            if m==n:\n",
    "                continue\n",
    "            temp -= (Lz[m]+Lz[n])*(eig_vectors[n].conjugate().dot(v[0]).dot(eig_vectors[m])*eig_vectors[m].conjugate().dot(v[1]).dot(eig_vectors[n]))/(eig_values[n]-eig_values[m]+complex(0,eta))**2\n",
    "        Omega_xyz[n] = np.imag(temp/2)\n",
    "    return (eig_values, Omega_xyz)"
   ]
  },
  {
   "cell_type": "code",
   "execution_count": null,
   "metadata": {},
   "outputs": [],
   "source": [
    "# Choosing the path\n",
    "path=[[0.0,0.0, 0.0],[0.5,0.0, 0.0],[0.5,0.5,0.0],[0.0,0.0, 0.0],[0.5,0.5,0.5],[0.5,0.0, 0.0]]\n",
    "k_label=(r'$\\Gamma$', r'$X$', r'$M$', r'$\\Gamma$', r'$R$', r'$X$')\n",
    "(k_vec,k_dist,k_node)=my_model.k_path(path,501,report=False)\n",
    "\n",
    "# Calculating OBC\n",
    "evals = np.zeros((64, k_vec.shape[0]))\n",
    "Omega_xyz = np.zeros((64, k_vec.shape[0]))\n",
    "for i in range(k_vec.shape[0]):\n",
    "    (evals[:, i], Omega_xyz[:, i]) = solve_and_calculate_Omega_xyz(k_vec[i])\n",
    "    if i%100 == 0:\n",
    "        print(i+1, \"points done.\")\n",
    "\n",
    "colors = Omega_xyz\n",
    "energies = evals -6.87"
   ]
  },
  {
   "cell_type": "code",
   "execution_count": null,
   "metadata": {},
   "outputs": [],
   "source": [
    "# Plotting\n",
    "cmax = 0.01\n",
    "plt.set_cmap('bwr')\n",
    "for i in range(energies.shape[0]):\n",
    "    plt.scatter(k_dist,energies[i], s=1, c=Omega_xyz[i])\n",
    "    plt.clim(-cmax, cmax)\n",
    "plt.colorbar(label=\"$\\\\Omega^z_{xy}$\")\n",
    "for n in range(len(k_node)):\n",
    "    plt.axvline(x=k_node[n],linewidth=0.5, color='k')\n",
    "plt.xlabel(\"Path in k-space\")\n",
    "plt.ylabel(\"Band energy (eV)\")\n",
    "plt.xlim(k_dist[0],k_dist[-1])\n",
    "plt.ylim(-1.25, 1.25)\n",
    "plt.xticks(k_node, labels=k_label)\n",
    "plt.show()"
   ]
  },
  {
   "cell_type": "markdown",
   "metadata": {},
   "source": [
    "# Supplementary"
   ]
  },
  {
   "cell_type": "code",
   "execution_count": null,
   "metadata": {},
   "outputs": [],
   "source": [
    "# Choosing the path\n",
    "path=[[-0.5,-0.5,-0.0],[0.0,0.0, 0.0],[0.5,0.5,0.0]]\n",
    "k_label=(r'$M$', r'$\\Gamma$', r'$M$')\n",
    "(k_vec,k_dist,k_node)=my_model.k_path(path,501,report=False)\n",
    "\n",
    "# Calculating OAM\n",
    "evals = np.zeros((64, k_vec.shape[0]))\n",
    "L = np.zeros((3, 64, k_vec.shape[0]))\n",
    "for i in range(k_vec.shape[0]):\n",
    "    (evals[:, i], L[:,:, i]) = solve_and_calculate_L(k_vec[i])\n",
    "    if i%100 == 0:\n",
    "        print(i+1, \"points done.\")\n",
    "\n",
    "energies = evals-6.87\n",
    "colors = L[0] + L[1]"
   ]
  },
  {
   "cell_type": "code",
   "execution_count": null,
   "metadata": {},
   "outputs": [],
   "source": [
    "# Plotting\n",
    "plt.set_cmap('bwr')\n",
    "cmax = 30\n",
    "for i in range(evals.shape[0]):\n",
    "    plt.scatter(k_dist, energies[i], s=1, c=colors[i])\n",
    "    plt.clim(-cmax, cmax)\n",
    "plt.colorbar(label=\"$L_{110}$\")\n",
    "for n in range(len(k_node)):\n",
    "    plt.axvline(x=k_node[n],linewidth=0.5, color='k')\n",
    "plt.xlabel(\"Path in k-space\")\n",
    "plt.ylabel(\"Band energy (eV)\")\n",
    "plt.xlim(k_dist[0],k_dist[-1])\n",
    "plt.ylim(-2.5, 2.5)\n",
    "plt.xticks(k_node, labels=k_label)\n",
    "plt.show()"
   ]
  }
 ],
 "metadata": {
  "kernelspec": {
   "display_name": "Python 3 (ipykernel)",
   "language": "python",
   "name": "python3"
  },
  "language_info": {
   "codemirror_mode": {
    "name": "ipython",
    "version": 3
   },
   "file_extension": ".py",
   "mimetype": "text/x-python",
   "name": "python",
   "nbconvert_exporter": "python",
   "pygments_lexer": "ipython3",
   "version": "3.12.4"
  }
 },
 "nbformat": 4,
 "nbformat_minor": 4
}
